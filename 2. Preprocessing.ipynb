{
 "cells": [
  {
   "cell_type": "code",
   "execution_count": 1,
   "id": "9b25d266",
   "metadata": {},
   "outputs": [],
   "source": [
    "import re\n",
    "import pandas as pd\n",
    "import matplotlib.pyplot as plt\n",
    "import seaborn as sns\n",
    "%matplotlib inline"
   ]
  },
  {
   "cell_type": "markdown",
   "id": "e31b22e9",
   "metadata": {},
   "source": [
    "## Convert deduplicated text into training data for preprocessing"
   ]
  },
  {
   "cell_type": "code",
   "execution_count": 2,
   "id": "138d2012",
   "metadata": {},
   "outputs": [],
   "source": [
    "deduplicated_arxiv = pd.read_csv(\"./datasets/deduplicated_arxiv.csv\")"
   ]
  },
  {
   "cell_type": "code",
   "execution_count": 3,
   "id": "5f3965d6",
   "metadata": {},
   "outputs": [
    {
     "name": "stdout",
     "output_type": "stream",
     "text": [
      "<class 'pandas.core.frame.DataFrame'>\n",
      "RangeIndex: 2276449 entries, 0 to 2276448\n",
      "Data columns (total 5 columns):\n",
      " #   Column      Dtype \n",
      "---  ------      ----- \n",
      " 0   title       object\n",
      " 1   authors     object\n",
      " 2   date        object\n",
      " 3   abstract    object\n",
      " 4   categories  object\n",
      "dtypes: object(5)\n",
      "memory usage: 86.8+ MB\n"
     ]
    }
   ],
   "source": [
    "deduplicated_arxiv.info()"
   ]
  },
  {
   "cell_type": "code",
   "execution_count": 4,
   "id": "367a354d",
   "metadata": {},
   "outputs": [
    {
     "data": {
      "text/html": [
       "<div>\n",
       "<style scoped>\n",
       "    .dataframe tbody tr th:only-of-type {\n",
       "        vertical-align: middle;\n",
       "    }\n",
       "\n",
       "    .dataframe tbody tr th {\n",
       "        vertical-align: top;\n",
       "    }\n",
       "\n",
       "    .dataframe thead th {\n",
       "        text-align: right;\n",
       "    }\n",
       "</style>\n",
       "<table border=\"1\" class=\"dataframe\">\n",
       "  <thead>\n",
       "    <tr style=\"text-align: right;\">\n",
       "      <th></th>\n",
       "      <th>title</th>\n",
       "      <th>authors</th>\n",
       "      <th>date</th>\n",
       "      <th>abstract</th>\n",
       "      <th>categories</th>\n",
       "    </tr>\n",
       "  </thead>\n",
       "  <tbody>\n",
       "    <tr>\n",
       "      <th>0</th>\n",
       "      <td>Calculation of prompt diphoton production cros...</td>\n",
       "      <td>C. Bal\\'azs, E. L. Berger, P. M. Nadolsky, C.-...</td>\n",
       "      <td>2008-11-26</td>\n",
       "      <td>A fully differential calculation in perturba...</td>\n",
       "      <td>hep-ph</td>\n",
       "    </tr>\n",
       "    <tr>\n",
       "      <th>1</th>\n",
       "      <td>Sparsity-certifying Graph Decompositions</td>\n",
       "      <td>Ileana Streinu and Louis Theran</td>\n",
       "      <td>2008-12-13</td>\n",
       "      <td>We describe a new algorithm, the $(k,\\ell)$-...</td>\n",
       "      <td>math.CO cs.CG</td>\n",
       "    </tr>\n",
       "    <tr>\n",
       "      <th>2</th>\n",
       "      <td>The evolution of the Earth-Moon system based o...</td>\n",
       "      <td>Hongjun Pan</td>\n",
       "      <td>2008-01-13</td>\n",
       "      <td>The evolution of Earth-Moon system is descri...</td>\n",
       "      <td>physics.gen-ph</td>\n",
       "    </tr>\n",
       "    <tr>\n",
       "      <th>3</th>\n",
       "      <td>A determinant of Stirling cycle numbers counts...</td>\n",
       "      <td>David Callan</td>\n",
       "      <td>2007-05-23</td>\n",
       "      <td>We show that a determinant of Stirling cycle...</td>\n",
       "      <td>math.CO</td>\n",
       "    </tr>\n",
       "    <tr>\n",
       "      <th>4</th>\n",
       "      <td>From dyadic $\\Lambda_{\\alpha}$ to $\\Lambda_{\\a...</td>\n",
       "      <td>Wael Abu-Shammala and Alberto Torchinsky</td>\n",
       "      <td>2013-10-15</td>\n",
       "      <td>In this paper we show how to compute the $\\L...</td>\n",
       "      <td>math.CA math.FA</td>\n",
       "    </tr>\n",
       "  </tbody>\n",
       "</table>\n",
       "</div>"
      ],
      "text/plain": [
       "                                               title  \\\n",
       "0  Calculation of prompt diphoton production cros...   \n",
       "1           Sparsity-certifying Graph Decompositions   \n",
       "2  The evolution of the Earth-Moon system based o...   \n",
       "3  A determinant of Stirling cycle numbers counts...   \n",
       "4  From dyadic $\\Lambda_{\\alpha}$ to $\\Lambda_{\\a...   \n",
       "\n",
       "                                             authors        date  \\\n",
       "0  C. Bal\\'azs, E. L. Berger, P. M. Nadolsky, C.-...  2008-11-26   \n",
       "1                    Ileana Streinu and Louis Theran  2008-12-13   \n",
       "2                                        Hongjun Pan  2008-01-13   \n",
       "3                                       David Callan  2007-05-23   \n",
       "4           Wael Abu-Shammala and Alberto Torchinsky  2013-10-15   \n",
       "\n",
       "                                            abstract       categories  \n",
       "0    A fully differential calculation in perturba...           hep-ph  \n",
       "1    We describe a new algorithm, the $(k,\\ell)$-...    math.CO cs.CG  \n",
       "2    The evolution of Earth-Moon system is descri...   physics.gen-ph  \n",
       "3    We show that a determinant of Stirling cycle...          math.CO  \n",
       "4    In this paper we show how to compute the $\\L...  math.CA math.FA  "
      ]
     },
     "execution_count": 4,
     "metadata": {},
     "output_type": "execute_result"
    }
   ],
   "source": [
    "deduplicated_arxiv.head()"
   ]
  },
  {
   "cell_type": "code",
   "execution_count": 6,
   "id": "a970fce9",
   "metadata": {},
   "outputs": [],
   "source": [
    "# convert the categories into tuple of categories\n",
    "deduplicated_arxiv[\"categories\"] = deduplicated_arxiv[\"categories\"].apply(lambda categories : tuple(categories.split()))\n",
    "\n",
    "deduplicated_arxiv[\"num_categories\"] = deduplicated_arxiv[\"categories\"].apply(lambda x : len(x))"
   ]
  },
  {
   "cell_type": "code",
   "execution_count": 7,
   "id": "5da15ee7",
   "metadata": {},
   "outputs": [
    {
     "data": {
      "text/html": [
       "<div>\n",
       "<style scoped>\n",
       "    .dataframe tbody tr th:only-of-type {\n",
       "        vertical-align: middle;\n",
       "    }\n",
       "\n",
       "    .dataframe tbody tr th {\n",
       "        vertical-align: top;\n",
       "    }\n",
       "\n",
       "    .dataframe thead th {\n",
       "        text-align: right;\n",
       "    }\n",
       "</style>\n",
       "<table border=\"1\" class=\"dataframe\">\n",
       "  <thead>\n",
       "    <tr style=\"text-align: right;\">\n",
       "      <th></th>\n",
       "      <th>title</th>\n",
       "      <th>authors</th>\n",
       "      <th>date</th>\n",
       "      <th>abstract</th>\n",
       "      <th>categories</th>\n",
       "      <th>num_categories</th>\n",
       "    </tr>\n",
       "  </thead>\n",
       "  <tbody>\n",
       "    <tr>\n",
       "      <th>0</th>\n",
       "      <td>Calculation of prompt diphoton production cros...</td>\n",
       "      <td>C. Bal\\'azs, E. L. Berger, P. M. Nadolsky, C.-...</td>\n",
       "      <td>2008-11-26</td>\n",
       "      <td>A fully differential calculation in perturba...</td>\n",
       "      <td>(hep-ph,)</td>\n",
       "      <td>1</td>\n",
       "    </tr>\n",
       "    <tr>\n",
       "      <th>1</th>\n",
       "      <td>Sparsity-certifying Graph Decompositions</td>\n",
       "      <td>Ileana Streinu and Louis Theran</td>\n",
       "      <td>2008-12-13</td>\n",
       "      <td>We describe a new algorithm, the $(k,\\ell)$-...</td>\n",
       "      <td>(math.CO, cs.CG)</td>\n",
       "      <td>2</td>\n",
       "    </tr>\n",
       "    <tr>\n",
       "      <th>2</th>\n",
       "      <td>The evolution of the Earth-Moon system based o...</td>\n",
       "      <td>Hongjun Pan</td>\n",
       "      <td>2008-01-13</td>\n",
       "      <td>The evolution of Earth-Moon system is descri...</td>\n",
       "      <td>(physics.gen-ph,)</td>\n",
       "      <td>1</td>\n",
       "    </tr>\n",
       "    <tr>\n",
       "      <th>3</th>\n",
       "      <td>A determinant of Stirling cycle numbers counts...</td>\n",
       "      <td>David Callan</td>\n",
       "      <td>2007-05-23</td>\n",
       "      <td>We show that a determinant of Stirling cycle...</td>\n",
       "      <td>(math.CO,)</td>\n",
       "      <td>1</td>\n",
       "    </tr>\n",
       "    <tr>\n",
       "      <th>4</th>\n",
       "      <td>From dyadic $\\Lambda_{\\alpha}$ to $\\Lambda_{\\a...</td>\n",
       "      <td>Wael Abu-Shammala and Alberto Torchinsky</td>\n",
       "      <td>2013-10-15</td>\n",
       "      <td>In this paper we show how to compute the $\\L...</td>\n",
       "      <td>(math.CA, math.FA)</td>\n",
       "      <td>2</td>\n",
       "    </tr>\n",
       "  </tbody>\n",
       "</table>\n",
       "</div>"
      ],
      "text/plain": [
       "                                               title  \\\n",
       "0  Calculation of prompt diphoton production cros...   \n",
       "1           Sparsity-certifying Graph Decompositions   \n",
       "2  The evolution of the Earth-Moon system based o...   \n",
       "3  A determinant of Stirling cycle numbers counts...   \n",
       "4  From dyadic $\\Lambda_{\\alpha}$ to $\\Lambda_{\\a...   \n",
       "\n",
       "                                             authors        date  \\\n",
       "0  C. Bal\\'azs, E. L. Berger, P. M. Nadolsky, C.-...  2008-11-26   \n",
       "1                    Ileana Streinu and Louis Theran  2008-12-13   \n",
       "2                                        Hongjun Pan  2008-01-13   \n",
       "3                                       David Callan  2007-05-23   \n",
       "4           Wael Abu-Shammala and Alberto Torchinsky  2013-10-15   \n",
       "\n",
       "                                            abstract          categories  \\\n",
       "0    A fully differential calculation in perturba...           (hep-ph,)   \n",
       "1    We describe a new algorithm, the $(k,\\ell)$-...    (math.CO, cs.CG)   \n",
       "2    The evolution of Earth-Moon system is descri...   (physics.gen-ph,)   \n",
       "3    We show that a determinant of Stirling cycle...          (math.CO,)   \n",
       "4    In this paper we show how to compute the $\\L...  (math.CA, math.FA)   \n",
       "\n",
       "   num_categories  \n",
       "0               1  \n",
       "1               2  \n",
       "2               1  \n",
       "3               1  \n",
       "4               2  "
      ]
     },
     "execution_count": 7,
     "metadata": {},
     "output_type": "execute_result"
    }
   ],
   "source": [
    "deduplicated_arxiv.head()"
   ]
  },
  {
   "cell_type": "code",
   "execution_count": 8,
   "id": "4666c9d4",
   "metadata": {},
   "outputs": [
    {
     "data": {
      "text/plain": [
       "77452"
      ]
     },
     "execution_count": 8,
     "metadata": {},
     "output_type": "execute_result"
    }
   ],
   "source": [
    "deduplicated_arxiv['categories'].nunique()"
   ]
  },
  {
   "cell_type": "code",
   "execution_count": 9,
   "id": "e71acd59",
   "metadata": {},
   "outputs": [
    {
     "name": "stdout",
     "output_type": "stream",
     "text": [
      "Num. unique categories: 176\n"
     ]
    }
   ],
   "source": [
    "categories = deduplicated_arxiv[\"categories\"].tolist()\n",
    "\n",
    "# Getting all unique categories by flattening the 'categories' column\n",
    "# and creating a set out of the resultant list.\n",
    "unique_categories = {}\n",
    "for row in categories:\n",
    "    for category in row:\n",
    "        unique_categories[category] = unique_categories.get(category, 0) + 1\n",
    "\n",
    "print(f\"Num. unique categories: {len(unique_categories)}\")"
   ]
  },
  {
   "cell_type": "code",
   "execution_count": 10,
   "id": "0a0bb771",
   "metadata": {},
   "outputs": [
    {
     "name": "stdout",
     "output_type": "stream",
     "text": [
      "  A fully differential calculation in perturbative quantum chromodynamics is\n",
      "presented for the production of massive photon pairs at hadron colliders. All\n",
      "next-to-leading order perturbative contributions from quark-antiquark,\n",
      "gluon-(anti)quark, and gluon-gluon subprocesses are included, as well as\n",
      "all-orders resummation of initial-state gluon radiation valid at\n",
      "next-to-next-to-leading logarithmic accuracy. The region of phase space is\n",
      "specified in which the calculation is most reliable. Good agreement is\n",
      "demonstrated with data from the Fermilab Tevatron, and predictions are made for\n",
      "more detailed tests with CDF and DO data. Predictions are shown for\n",
      "distributions of diphoton pairs produced at the energy of the Large Hadron\n",
      "Collider (LHC). Distributions of the diphoton pairs from the decay of a Higgs\n",
      "boson are contrasted with those produced from QCD processes at the LHC, showing\n",
      "that enhanced sensitivity to the signal can be obtained with judicious\n",
      "selection of events.\n",
      "\n"
     ]
    }
   ],
   "source": [
    "print(deduplicated_arxiv.abstract[0])"
   ]
  },
  {
   "cell_type": "code",
   "execution_count": 11,
   "id": "bab25af7",
   "metadata": {},
   "outputs": [
    {
     "name": "stdout",
     "output_type": "stream",
     "text": [
      "Tautological relations in Hodge field theory\n",
      "\n",
      "  We propose a Hodge field theory construction that captures algebraic\n",
      "properties of the reduction of Zwiebach invariants to Gromov-Witten invariants.\n",
      "It generalizes the Barannikov-Kontsevich construction to the case of higher\n",
      "genera correlators with gravitational descendants.\n",
      "  We prove the main theorem stating that algebraically defined Hodge field\n",
      "theory correlators satisfy all tautological relations. From this perspective\n",
      "the statement that Barannikov-Kontsevich construction provides a solution of\n",
      "the WDVV equation looks as the simplest particular case of our theorem. Also it\n",
      "generalizes the particular cases of other low-genera tautological relations\n",
      "proven in our earlier works; we replace the old technical proofs by a novel\n",
      "conceptual proof.\n",
      "\n",
      "\n",
      "Tautological relations in Hodge field theory  We propose a Hodge field theory construction that captures algebraic\n",
      "properties of the reduction of Zwiebach invariants to Gromov-Witten invariants.\n",
      "It generalizes the Barannikov-Kontsevich construction to the case of higher\n",
      "genera correlators with gravitational descendants.\n",
      "  We prove the main theorem stating that algebraically defined Hodge field\n",
      "theory correlators satisfy all tautological relations. From this perspective\n",
      "the statement that Barannikov-Kontsevich construction provides a solution of\n",
      "the WDVV equation looks as the simplest particular case of our theorem. Also it\n",
      "generalizes the particular cases of other low-genera tautological relations\n",
      "proven in our earlier works; we replace the old technical proofs by a novel\n",
      "conceptual proof.\n",
      "\n"
     ]
    }
   ],
   "source": [
    "# Since we are going to use only abstract and title, and categories for training, we are going to concatenate title and abstract and drop other columns\n",
    "NUM = 1000\n",
    "text = deduplicated_arxiv.title[NUM] + deduplicated_arxiv.abstract[NUM]\n",
    "print(deduplicated_arxiv.title[NUM])\n",
    "print()\n",
    "print(deduplicated_arxiv.abstract[NUM])\n",
    "print()\n",
    "print(text)"
   ]
  },
  {
   "cell_type": "code",
   "execution_count": 12,
   "id": "1ef87212",
   "metadata": {},
   "outputs": [],
   "source": [
    "deduplicated_arxiv[\"text\"] = deduplicated_arxiv.title + deduplicated_arxiv.abstract"
   ]
  },
  {
   "cell_type": "code",
   "execution_count": 13,
   "id": "c9bdf764",
   "metadata": {},
   "outputs": [
    {
     "data": {
      "text/html": [
       "<div>\n",
       "<style scoped>\n",
       "    .dataframe tbody tr th:only-of-type {\n",
       "        vertical-align: middle;\n",
       "    }\n",
       "\n",
       "    .dataframe tbody tr th {\n",
       "        vertical-align: top;\n",
       "    }\n",
       "\n",
       "    .dataframe thead th {\n",
       "        text-align: right;\n",
       "    }\n",
       "</style>\n",
       "<table border=\"1\" class=\"dataframe\">\n",
       "  <thead>\n",
       "    <tr style=\"text-align: right;\">\n",
       "      <th></th>\n",
       "      <th>title</th>\n",
       "      <th>authors</th>\n",
       "      <th>date</th>\n",
       "      <th>abstract</th>\n",
       "      <th>categories</th>\n",
       "      <th>num_categories</th>\n",
       "      <th>text</th>\n",
       "    </tr>\n",
       "  </thead>\n",
       "  <tbody>\n",
       "    <tr>\n",
       "      <th>0</th>\n",
       "      <td>Calculation of prompt diphoton production cros...</td>\n",
       "      <td>C. Bal\\'azs, E. L. Berger, P. M. Nadolsky, C.-...</td>\n",
       "      <td>2008-11-26</td>\n",
       "      <td>A fully differential calculation in perturba...</td>\n",
       "      <td>(hep-ph,)</td>\n",
       "      <td>1</td>\n",
       "      <td>Calculation of prompt diphoton production cros...</td>\n",
       "    </tr>\n",
       "    <tr>\n",
       "      <th>1</th>\n",
       "      <td>Sparsity-certifying Graph Decompositions</td>\n",
       "      <td>Ileana Streinu and Louis Theran</td>\n",
       "      <td>2008-12-13</td>\n",
       "      <td>We describe a new algorithm, the $(k,\\ell)$-...</td>\n",
       "      <td>(math.CO, cs.CG)</td>\n",
       "      <td>2</td>\n",
       "      <td>Sparsity-certifying Graph Decompositions  We d...</td>\n",
       "    </tr>\n",
       "    <tr>\n",
       "      <th>2</th>\n",
       "      <td>The evolution of the Earth-Moon system based o...</td>\n",
       "      <td>Hongjun Pan</td>\n",
       "      <td>2008-01-13</td>\n",
       "      <td>The evolution of Earth-Moon system is descri...</td>\n",
       "      <td>(physics.gen-ph,)</td>\n",
       "      <td>1</td>\n",
       "      <td>The evolution of the Earth-Moon system based o...</td>\n",
       "    </tr>\n",
       "    <tr>\n",
       "      <th>3</th>\n",
       "      <td>A determinant of Stirling cycle numbers counts...</td>\n",
       "      <td>David Callan</td>\n",
       "      <td>2007-05-23</td>\n",
       "      <td>We show that a determinant of Stirling cycle...</td>\n",
       "      <td>(math.CO,)</td>\n",
       "      <td>1</td>\n",
       "      <td>A determinant of Stirling cycle numbers counts...</td>\n",
       "    </tr>\n",
       "    <tr>\n",
       "      <th>4</th>\n",
       "      <td>From dyadic $\\Lambda_{\\alpha}$ to $\\Lambda_{\\a...</td>\n",
       "      <td>Wael Abu-Shammala and Alberto Torchinsky</td>\n",
       "      <td>2013-10-15</td>\n",
       "      <td>In this paper we show how to compute the $\\L...</td>\n",
       "      <td>(math.CA, math.FA)</td>\n",
       "      <td>2</td>\n",
       "      <td>From dyadic $\\Lambda_{\\alpha}$ to $\\Lambda_{\\a...</td>\n",
       "    </tr>\n",
       "  </tbody>\n",
       "</table>\n",
       "</div>"
      ],
      "text/plain": [
       "                                               title  \\\n",
       "0  Calculation of prompt diphoton production cros...   \n",
       "1           Sparsity-certifying Graph Decompositions   \n",
       "2  The evolution of the Earth-Moon system based o...   \n",
       "3  A determinant of Stirling cycle numbers counts...   \n",
       "4  From dyadic $\\Lambda_{\\alpha}$ to $\\Lambda_{\\a...   \n",
       "\n",
       "                                             authors        date  \\\n",
       "0  C. Bal\\'azs, E. L. Berger, P. M. Nadolsky, C.-...  2008-11-26   \n",
       "1                    Ileana Streinu and Louis Theran  2008-12-13   \n",
       "2                                        Hongjun Pan  2008-01-13   \n",
       "3                                       David Callan  2007-05-23   \n",
       "4           Wael Abu-Shammala and Alberto Torchinsky  2013-10-15   \n",
       "\n",
       "                                            abstract          categories  \\\n",
       "0    A fully differential calculation in perturba...           (hep-ph,)   \n",
       "1    We describe a new algorithm, the $(k,\\ell)$-...    (math.CO, cs.CG)   \n",
       "2    The evolution of Earth-Moon system is descri...   (physics.gen-ph,)   \n",
       "3    We show that a determinant of Stirling cycle...          (math.CO,)   \n",
       "4    In this paper we show how to compute the $\\L...  (math.CA, math.FA)   \n",
       "\n",
       "   num_categories                                               text  \n",
       "0               1  Calculation of prompt diphoton production cros...  \n",
       "1               2  Sparsity-certifying Graph Decompositions  We d...  \n",
       "2               1  The evolution of the Earth-Moon system based o...  \n",
       "3               1  A determinant of Stirling cycle numbers counts...  \n",
       "4               2  From dyadic $\\Lambda_{\\alpha}$ to $\\Lambda_{\\a...  "
      ]
     },
     "execution_count": 13,
     "metadata": {},
     "output_type": "execute_result"
    }
   ],
   "source": [
    "deduplicated_arxiv.head()"
   ]
  },
  {
   "cell_type": "code",
   "execution_count": 14,
   "id": "b4107668",
   "metadata": {},
   "outputs": [],
   "source": [
    "deduplicated_arxiv.drop([\"title\", \"abstract\", \"authors\", \"date\", \"num_categories\"], axis = 1, inplace = True)"
   ]
  },
  {
   "cell_type": "code",
   "execution_count": 15,
   "id": "87d0595f",
   "metadata": {},
   "outputs": [
    {
     "data": {
      "text/html": [
       "<div>\n",
       "<style scoped>\n",
       "    .dataframe tbody tr th:only-of-type {\n",
       "        vertical-align: middle;\n",
       "    }\n",
       "\n",
       "    .dataframe tbody tr th {\n",
       "        vertical-align: top;\n",
       "    }\n",
       "\n",
       "    .dataframe thead th {\n",
       "        text-align: right;\n",
       "    }\n",
       "</style>\n",
       "<table border=\"1\" class=\"dataframe\">\n",
       "  <thead>\n",
       "    <tr style=\"text-align: right;\">\n",
       "      <th></th>\n",
       "      <th>categories</th>\n",
       "      <th>text</th>\n",
       "    </tr>\n",
       "  </thead>\n",
       "  <tbody>\n",
       "    <tr>\n",
       "      <th>0</th>\n",
       "      <td>(hep-ph,)</td>\n",
       "      <td>Calculation of prompt diphoton production cros...</td>\n",
       "    </tr>\n",
       "    <tr>\n",
       "      <th>1</th>\n",
       "      <td>(math.CO, cs.CG)</td>\n",
       "      <td>Sparsity-certifying Graph Decompositions  We d...</td>\n",
       "    </tr>\n",
       "    <tr>\n",
       "      <th>2</th>\n",
       "      <td>(physics.gen-ph,)</td>\n",
       "      <td>The evolution of the Earth-Moon system based o...</td>\n",
       "    </tr>\n",
       "    <tr>\n",
       "      <th>3</th>\n",
       "      <td>(math.CO,)</td>\n",
       "      <td>A determinant of Stirling cycle numbers counts...</td>\n",
       "    </tr>\n",
       "    <tr>\n",
       "      <th>4</th>\n",
       "      <td>(math.CA, math.FA)</td>\n",
       "      <td>From dyadic $\\Lambda_{\\alpha}$ to $\\Lambda_{\\a...</td>\n",
       "    </tr>\n",
       "  </tbody>\n",
       "</table>\n",
       "</div>"
      ],
      "text/plain": [
       "           categories                                               text\n",
       "0           (hep-ph,)  Calculation of prompt diphoton production cros...\n",
       "1    (math.CO, cs.CG)  Sparsity-certifying Graph Decompositions  We d...\n",
       "2   (physics.gen-ph,)  The evolution of the Earth-Moon system based o...\n",
       "3          (math.CO,)  A determinant of Stirling cycle numbers counts...\n",
       "4  (math.CA, math.FA)  From dyadic $\\Lambda_{\\alpha}$ to $\\Lambda_{\\a..."
      ]
     },
     "execution_count": 15,
     "metadata": {},
     "output_type": "execute_result"
    }
   ],
   "source": [
    "deduplicated_arxiv.head()"
   ]
  },
  {
   "cell_type": "code",
   "execution_count": 18,
   "id": "b22424b1",
   "metadata": {},
   "outputs": [],
   "source": [
    "deduplicated_arxiv.to_csv(\"./datasets/training_data_for_preprocessing.csv\", index=False)"
   ]
  },
  {
   "cell_type": "markdown",
   "id": "6859f15d",
   "metadata": {},
   "source": [
    "## Preprocessing"
   ]
  },
  {
   "cell_type": "code",
   "execution_count": 19,
   "id": "a18f8a01",
   "metadata": {},
   "outputs": [],
   "source": [
    "df = pd.read_csv(\"./datasets/training_data_for_preprocessing.csv\")"
   ]
  },
  {
   "cell_type": "code",
   "execution_count": 20,
   "id": "4ef429cf",
   "metadata": {},
   "outputs": [
    {
     "data": {
      "text/html": [
       "<div>\n",
       "<style scoped>\n",
       "    .dataframe tbody tr th:only-of-type {\n",
       "        vertical-align: middle;\n",
       "    }\n",
       "\n",
       "    .dataframe tbody tr th {\n",
       "        vertical-align: top;\n",
       "    }\n",
       "\n",
       "    .dataframe thead th {\n",
       "        text-align: right;\n",
       "    }\n",
       "</style>\n",
       "<table border=\"1\" class=\"dataframe\">\n",
       "  <thead>\n",
       "    <tr style=\"text-align: right;\">\n",
       "      <th></th>\n",
       "      <th>categories</th>\n",
       "      <th>text</th>\n",
       "    </tr>\n",
       "  </thead>\n",
       "  <tbody>\n",
       "    <tr>\n",
       "      <th>0</th>\n",
       "      <td>('hep-ph',)</td>\n",
       "      <td>Calculation of prompt diphoton production cros...</td>\n",
       "    </tr>\n",
       "    <tr>\n",
       "      <th>1</th>\n",
       "      <td>('math.CO', 'cs.CG')</td>\n",
       "      <td>Sparsity-certifying Graph Decompositions  We d...</td>\n",
       "    </tr>\n",
       "    <tr>\n",
       "      <th>2</th>\n",
       "      <td>('physics.gen-ph',)</td>\n",
       "      <td>The evolution of the Earth-Moon system based o...</td>\n",
       "    </tr>\n",
       "    <tr>\n",
       "      <th>3</th>\n",
       "      <td>('math.CO',)</td>\n",
       "      <td>A determinant of Stirling cycle numbers counts...</td>\n",
       "    </tr>\n",
       "    <tr>\n",
       "      <th>4</th>\n",
       "      <td>('math.CA', 'math.FA')</td>\n",
       "      <td>From dyadic $\\Lambda_{\\alpha}$ to $\\Lambda_{\\a...</td>\n",
       "    </tr>\n",
       "  </tbody>\n",
       "</table>\n",
       "</div>"
      ],
      "text/plain": [
       "               categories                                               text\n",
       "0             ('hep-ph',)  Calculation of prompt diphoton production cros...\n",
       "1    ('math.CO', 'cs.CG')  Sparsity-certifying Graph Decompositions  We d...\n",
       "2     ('physics.gen-ph',)  The evolution of the Earth-Moon system based o...\n",
       "3            ('math.CO',)  A determinant of Stirling cycle numbers counts...\n",
       "4  ('math.CA', 'math.FA')  From dyadic $\\Lambda_{\\alpha}$ to $\\Lambda_{\\a..."
      ]
     },
     "execution_count": 20,
     "metadata": {},
     "output_type": "execute_result"
    }
   ],
   "source": [
    "df.head()"
   ]
  },
  {
   "cell_type": "code",
   "execution_count": 21,
   "id": "870c2304",
   "metadata": {},
   "outputs": [
    {
     "name": "stdout",
     "output_type": "stream",
     "text": [
      "Sparsity-certifying Graph Decompositions  We describe a new algorithm, the $(k,\\ell)$-pebble game with colors, and use\n",
      "it obtain a characterization of the family of $(k,\\ell)$-sparse graphs and\n",
      "algorithmic solutions to a family of problems concerning tree decompositions of\n",
      "graphs. Special instances of sparse graphs appear in rigidity theory and have\n",
      "received increased attention in recent years. In particular, our colored\n",
      "pebbles generalize and strengthen the previous results of Lee and Streinu and\n",
      "give a new proof of the Tutte-Nash-Williams characterization of arboricity. We\n",
      "also present a new decomposition that certifies sparsity based on the\n",
      "$(k,\\ell)$-pebble game with colors. Our work also exposes connections between\n",
      "pebble game algorithms and previous sparse graph algorithms by Gabow, Gabow and\n",
      "Westermann and Hendrickson.\n",
      "\n"
     ]
    }
   ],
   "source": [
    "print(df.text[1])"
   ]
  },
  {
   "cell_type": "code",
   "execution_count": 24,
   "id": "88331792",
   "metadata": {},
   "outputs": [
    {
     "name": "stderr",
     "output_type": "stream",
     "text": [
      "[nltk_data] Downloading package stopwords to\n",
      "[nltk_data]     C:\\Users\\Nirajan\\AppData\\Roaming\\nltk_data...\n",
      "[nltk_data]   Package stopwords is already up-to-date!\n"
     ]
    }
   ],
   "source": [
    "import nltk\n",
    "nltk.download(\"stopwords\")\n",
    "from nltk.stem import PorterStemmer\n",
    "ps = PorterStemmer()\n",
    "\n",
    "from nltk.corpus import stopwords\n",
    "stop_word_collection = stopwords.words('english')\n",
    "\n",
    "import string\n",
    "\n",
    "from tqdm import tqdm\n",
    "\n",
    "def text_preprocess(text, progress_bar):\n",
    "    # Update the progress bar\n",
    "    progress_bar.update(1)\n",
    "\n",
    "    # Replace all punctuation with white space\n",
    "    translator = str.maketrans(string.punctuation, ' ' * len(string.punctuation))\n",
    "    text = text.translate(translator)\n",
    "\n",
    "    # Remove all numbers and words containing numbers\n",
    "    text = re.sub(r'\\w*\\d\\w*', ' ', text).strip()\n",
    "\n",
    "    # Changes to lower case\n",
    "    text = text.lower()\n",
    "\n",
    "    # Remove all stop words\n",
    "    text = ' '. join(word for word in text.split() if word not in stop_word_collection)\n",
    "\n",
    "    # Stemming of all words\n",
    "    text = [ps.stem(word) for word in text.split()]\n",
    "    text = ' '.join(text)\n",
    "    return text"
   ]
  },
  {
   "cell_type": "code",
   "execution_count": 27,
   "id": "af74e272",
   "metadata": {},
   "outputs": [
    {
     "data": {
      "text/plain": [
       "'Degeneration of globally hyperbolic maximal anti-de Sitter structures\\n  along rays  Using the parameterisation of the deformation space of GHMC anti-de Sitter\\nstructures on $S \\\\times \\\\mathbb{R}$ by the cotangent bundle of the\\nTeichm\\\\\"uller space of $S$, we study how some geometric quantities, such as the\\nLorentzian Hausdorff dimension of the limit set, the width of the convex core\\nand the H\\\\\"older exponent, degenerate along rays of quadratic differentials.\\n'"
      ]
     },
     "execution_count": 27,
     "metadata": {},
     "output_type": "execute_result"
    }
   ],
   "source": [
    "df.text[900_000]"
   ]
  },
  {
   "cell_type": "code",
   "execution_count": 35,
   "id": "54b27295",
   "metadata": {},
   "outputs": [
    {
     "name": "stderr",
     "output_type": "stream",
     "text": [
      "100%|███████████████████████████████████████████████████████████████████████| 1000000/1000000 [43:32<00:00, 382.75it/s]\n"
     ]
    }
   ],
   "source": [
    "progress_bar = tqdm(total=1_000_000)\n",
    "\n",
    "df.text[:1_000_000] = df.text[:1_000_000].apply(text_preprocess, args=(progress_bar,))\n",
    "# Close the progress bar\n",
    "progress_bar.close()"
   ]
  },
  {
   "cell_type": "code",
   "execution_count": 29,
   "id": "285fcfc5",
   "metadata": {},
   "outputs": [
    {
     "name": "stdout",
     "output_type": "stream",
     "text": [
      "degener global hyperbol maxim anti de sitter structur along ray use parameteris deform space ghmc anti de sitter structur time mathbb r cotang bundl teichm uller space studi geometr quantiti lorentzian hausdorff dimens limit set width convex core h older expon degener along ray quadrat differenti\n"
     ]
    }
   ],
   "source": [
    "print(df.text[900_000])"
   ]
  },
  {
   "cell_type": "code",
   "execution_count": 36,
   "id": "c543a14a",
   "metadata": {},
   "outputs": [],
   "source": [
    "df.to_csv(\"./datasets/preprocessed_csv.csv\", index = False)"
   ]
  },
  {
   "cell_type": "markdown",
   "id": "c93fff33",
   "metadata": {},
   "source": [
    "## First 1 million data"
   ]
  },
  {
   "cell_type": "code",
   "execution_count": 38,
   "id": "c37405f9",
   "metadata": {},
   "outputs": [],
   "source": [
    "data = pd.read_csv(\"./datasets/preprocessed_csv.csv\")"
   ]
  },
  {
   "cell_type": "code",
   "execution_count": 39,
   "id": "05876414",
   "metadata": {},
   "outputs": [
    {
     "data": {
      "text/html": [
       "<div>\n",
       "<style scoped>\n",
       "    .dataframe tbody tr th:only-of-type {\n",
       "        vertical-align: middle;\n",
       "    }\n",
       "\n",
       "    .dataframe tbody tr th {\n",
       "        vertical-align: top;\n",
       "    }\n",
       "\n",
       "    .dataframe thead th {\n",
       "        text-align: right;\n",
       "    }\n",
       "</style>\n",
       "<table border=\"1\" class=\"dataframe\">\n",
       "  <thead>\n",
       "    <tr style=\"text-align: right;\">\n",
       "      <th></th>\n",
       "      <th>categories</th>\n",
       "      <th>text</th>\n",
       "    </tr>\n",
       "  </thead>\n",
       "  <tbody>\n",
       "    <tr>\n",
       "      <th>0</th>\n",
       "      <td>('hep-ph',)</td>\n",
       "      <td>calcul prompt diphoton product cross section t...</td>\n",
       "    </tr>\n",
       "    <tr>\n",
       "      <th>1</th>\n",
       "      <td>('math.CO', 'cs.CG')</td>\n",
       "      <td>sparsiti certifi graph decomposit describ new ...</td>\n",
       "    </tr>\n",
       "    <tr>\n",
       "      <th>2</th>\n",
       "      <td>('physics.gen-ph',)</td>\n",
       "      <td>evolut earth moon system base dark matter fiel...</td>\n",
       "    </tr>\n",
       "    <tr>\n",
       "      <th>3</th>\n",
       "      <td>('math.CO',)</td>\n",
       "      <td>determin stirl cycl number count unlabel acycl...</td>\n",
       "    </tr>\n",
       "    <tr>\n",
       "      <th>4</th>\n",
       "      <td>('math.CA', 'math.FA')</td>\n",
       "      <td>dyadic lambda alpha lambda alpha paper show co...</td>\n",
       "    </tr>\n",
       "  </tbody>\n",
       "</table>\n",
       "</div>"
      ],
      "text/plain": [
       "               categories                                               text\n",
       "0             ('hep-ph',)  calcul prompt diphoton product cross section t...\n",
       "1    ('math.CO', 'cs.CG')  sparsiti certifi graph decomposit describ new ...\n",
       "2     ('physics.gen-ph',)  evolut earth moon system base dark matter fiel...\n",
       "3            ('math.CO',)  determin stirl cycl number count unlabel acycl...\n",
       "4  ('math.CA', 'math.FA')  dyadic lambda alpha lambda alpha paper show co..."
      ]
     },
     "execution_count": 39,
     "metadata": {},
     "output_type": "execute_result"
    }
   ],
   "source": [
    "data.head()"
   ]
  },
  {
   "cell_type": "code",
   "execution_count": 40,
   "id": "38ee74f7",
   "metadata": {},
   "outputs": [
    {
     "name": "stdout",
     "output_type": "stream",
     "text": [
      "<class 'pandas.core.frame.DataFrame'>\n",
      "RangeIndex: 2276449 entries, 0 to 2276448\n",
      "Data columns (total 2 columns):\n",
      " #   Column      Dtype \n",
      "---  ------      ----- \n",
      " 0   categories  object\n",
      " 1   text        object\n",
      "dtypes: object(2)\n",
      "memory usage: 34.7+ MB\n"
     ]
    }
   ],
   "source": [
    "data.info()"
   ]
  },
  {
   "cell_type": "code",
   "execution_count": 41,
   "id": "fbaa3bc5",
   "metadata": {},
   "outputs": [
    {
     "data": {
      "text/plain": [
       "'proactiv interv downtrend employ attrit use artifici intellig techniqu predict employ attrit beforehand enabl manag take individu prevent action use ensembl classif model techniqu linear regress model could predict accur employ predict lead time separ individu reason cau attrit prior intim employ attrit enabl manag take prevent action retain employ manag busi consequ attrit deploy model help downtrend employ attrit help manag manag team effect model cover natur calam unforeseen event occur individu level like accid death etc'"
      ]
     },
     "execution_count": 41,
     "metadata": {},
     "output_type": "execute_result"
    }
   ],
   "source": [
    "data.iloc[999_999].text"
   ]
  },
  {
   "cell_type": "code",
   "execution_count": 42,
   "id": "ed0877e5",
   "metadata": {},
   "outputs": [
    {
     "data": {
      "text/plain": [
       "'Random motion on finite rings, II: Noncommutative rings  We extend our previous study of Markov chains on finite commutative rings\\n(arXiv:1605.05089) to arbitrary finite rings with identity. At each step, we\\neither add or multiply by a randomly chosen element of the ring, where the\\naddition (resp. multiplication) distribution is uniform (resp. conjugacy\\ninvariant). We prove explicit formulas for some of the eigenvalues of the\\ntransition matrix and give lower bounds on their multiplicities. We also give\\nrecursive formulas for the stationary distribution and prove that the mixing\\ntime is bounded by an absolute constant. For the matrix rings $M_2(\\\\mathbb\\nF_q),$ we compute the entire spectrum explicitly using the representation\\ntheory of $\\\\text{GL}_2(\\\\mathbb F_q),$ as well as the stationary probabilities.\\n'"
      ]
     },
     "execution_count": 42,
     "metadata": {},
     "output_type": "execute_result"
    }
   ],
   "source": [
    "data.iloc[1_000_000].text"
   ]
  },
  {
   "cell_type": "code",
   "execution_count": 43,
   "id": "7a54d034",
   "metadata": {},
   "outputs": [],
   "source": [
    "sample_data = data.iloc[0:999_999]"
   ]
  },
  {
   "cell_type": "code",
   "execution_count": 44,
   "id": "b34d823d",
   "metadata": {},
   "outputs": [
    {
     "data": {
      "text/plain": [
       "0         calcul prompt diphoton product cross section t...\n",
       "1         sparsiti certifi graph decomposit describ new ...\n",
       "2         evolut earth moon system base dark matter fiel...\n",
       "3         determin stirl cycl number count unlabel acycl...\n",
       "4         dyadic lambda alpha lambda alpha paper show co...\n",
       "                                ...                        \n",
       "999994    dynam coupl dilut magnet impur quantum spin li...\n",
       "999995    recogni cardiac abnorm wearabl devic photoplet...\n",
       "999996    evolut skyrmion crystal fe co si like quasi tw...\n",
       "999997    benedick amrein berthier type theorem relat tw...\n",
       "999998    constraint scalar tensor model gauss bonnet co...\n",
       "Name: text, Length: 999999, dtype: object"
      ]
     },
     "execution_count": 44,
     "metadata": {},
     "output_type": "execute_result"
    }
   ],
   "source": [
    "sample_data.text"
   ]
  },
  {
   "cell_type": "code",
   "execution_count": 45,
   "id": "9ae623c6",
   "metadata": {},
   "outputs": [],
   "source": [
    "sample_data.to_csv(\"first 1 million.csv\", index = False)"
   ]
  },
  {
   "cell_type": "code",
   "execution_count": null,
   "id": "ffe53c9a",
   "metadata": {},
   "outputs": [],
   "source": []
  }
 ],
 "metadata": {
  "kernelspec": {
   "display_name": "Python 3 (ipykernel)",
   "language": "python",
   "name": "python3"
  },
  "language_info": {
   "codemirror_mode": {
    "name": "ipython",
    "version": 3
   },
   "file_extension": ".py",
   "mimetype": "text/x-python",
   "name": "python",
   "nbconvert_exporter": "python",
   "pygments_lexer": "ipython3",
   "version": "3.8.17"
  }
 },
 "nbformat": 4,
 "nbformat_minor": 5
}
