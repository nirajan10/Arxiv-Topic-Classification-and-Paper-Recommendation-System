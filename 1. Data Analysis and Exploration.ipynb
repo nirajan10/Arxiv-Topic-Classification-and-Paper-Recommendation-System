{
 "cells": [
  {
   "cell_type": "code",
   "execution_count": 1,
   "id": "0b6b6c62",
   "metadata": {},
   "outputs": [],
   "source": [
    "import pandas as pd\n",
    "import matplotlib.pyplot as plt\n",
    "import seaborn as sns\n",
    "import json\n",
    "from tqdm import tqdm\n",
    "from typing import Generator"
   ]
  },
  {
   "cell_type": "markdown",
   "id": "6fafbb7b",
   "metadata": {},
   "source": [
    "## Convert JSON Data into CSV file"
   ]
  },
  {
   "cell_type": "code",
   "execution_count": 5,
   "id": "11b2814e",
   "metadata": {},
   "outputs": [],
   "source": [
    "DATASET_PATH = \"./data/arxiv-metadata-oai-snapshot.json\""
   ]
  },
  {
   "cell_type": "code",
   "execution_count": 6,
   "id": "ed075011",
   "metadata": {},
   "outputs": [
    {
     "name": "stdout",
     "output_type": "stream",
     "text": [
      "<class 'generator'>\n"
     ]
    }
   ],
   "source": [
    "def get_dataset_generator(path: str) -> Generator:\n",
    "    with open(path, \"r\") as fp:\n",
    "        for line in fp:\n",
    "            row = json.loads(line)\n",
    "            yield row\n",
    "\n",
    "\n",
    "dataset_generator = get_dataset_generator(\n",
    "    path=DATASET_PATH\n",
    ")\n",
    "print(type(dataset_generator))"
   ]
  },
  {
   "cell_type": "code",
   "execution_count": 7,
   "id": "480781bc",
   "metadata": {},
   "outputs": [],
   "source": [
    "def create_dataframe(generator: Generator) -> pd.DataFrame:\n",
    "    # I'll use this column to filter out paper duplicates.\n",
    "    titles = []\n",
    "    authors = []\n",
    "\n",
    "    abstracts = []\n",
    "    categories = []\n",
    "    dates = []\n",
    "\n",
    "    for row in generator:\n",
    "        titles.append(row[\"title\"])\n",
    "        authors.append(row[\"authors\"])\n",
    "\n",
    "        dates.append(row[\"update_date\"])\n",
    "        abstracts.append(row[\"abstract\"])\n",
    "        categories.append(row[\"categories\"])\n",
    "\n",
    "    return pd.DataFrame.from_dict({\n",
    "        \"title\": titles,\n",
    "        \"authors\": authors,\n",
    "        \"date\": dates,\n",
    "        \"abstract\": abstracts,\n",
    "        \"categories\": categories\n",
    "    })\n",
    "\n",
    "\n",
    "dataset_df = create_dataframe(dataset_generator)\n",
    "dataset_df[\"date\"] = pd.to_datetime(dataset_df[\"date\"])"
   ]
  },
  {
   "cell_type": "code",
   "execution_count": 12,
   "id": "93a41d1b",
   "metadata": {},
   "outputs": [],
   "source": [
    "FILE_PATH = \"./datasets/arxiv.csv\"\n",
    "dataset_df.to_csv(FILE_PATH, index=False)"
   ]
  },
  {
   "cell_type": "markdown",
   "id": "ba256d02",
   "metadata": {},
   "source": [
    "## Load the csv dataset"
   ]
  },
  {
   "cell_type": "code",
   "execution_count": 13,
   "id": "0919254d",
   "metadata": {},
   "outputs": [],
   "source": [
    "full_data = pd.read_csv(\"./datasets/arxiv.csv\")"
   ]
  },
  {
   "cell_type": "code",
   "execution_count": 14,
   "id": "4f14b0c9",
   "metadata": {},
   "outputs": [
    {
     "data": {
      "text/html": [
       "<div>\n",
       "<style scoped>\n",
       "    .dataframe tbody tr th:only-of-type {\n",
       "        vertical-align: middle;\n",
       "    }\n",
       "\n",
       "    .dataframe tbody tr th {\n",
       "        vertical-align: top;\n",
       "    }\n",
       "\n",
       "    .dataframe thead th {\n",
       "        text-align: right;\n",
       "    }\n",
       "</style>\n",
       "<table border=\"1\" class=\"dataframe\">\n",
       "  <thead>\n",
       "    <tr style=\"text-align: right;\">\n",
       "      <th></th>\n",
       "      <th>title</th>\n",
       "      <th>authors</th>\n",
       "      <th>date</th>\n",
       "      <th>abstract</th>\n",
       "      <th>categories</th>\n",
       "    </tr>\n",
       "  </thead>\n",
       "  <tbody>\n",
       "    <tr>\n",
       "      <th>0</th>\n",
       "      <td>Calculation of prompt diphoton production cros...</td>\n",
       "      <td>C. Bal\\'azs, E. L. Berger, P. M. Nadolsky, C.-...</td>\n",
       "      <td>2008-11-26</td>\n",
       "      <td>A fully differential calculation in perturba...</td>\n",
       "      <td>hep-ph</td>\n",
       "    </tr>\n",
       "    <tr>\n",
       "      <th>1</th>\n",
       "      <td>Sparsity-certifying Graph Decompositions</td>\n",
       "      <td>Ileana Streinu and Louis Theran</td>\n",
       "      <td>2008-12-13</td>\n",
       "      <td>We describe a new algorithm, the $(k,\\ell)$-...</td>\n",
       "      <td>math.CO cs.CG</td>\n",
       "    </tr>\n",
       "    <tr>\n",
       "      <th>2</th>\n",
       "      <td>The evolution of the Earth-Moon system based o...</td>\n",
       "      <td>Hongjun Pan</td>\n",
       "      <td>2008-01-13</td>\n",
       "      <td>The evolution of Earth-Moon system is descri...</td>\n",
       "      <td>physics.gen-ph</td>\n",
       "    </tr>\n",
       "    <tr>\n",
       "      <th>3</th>\n",
       "      <td>A determinant of Stirling cycle numbers counts...</td>\n",
       "      <td>David Callan</td>\n",
       "      <td>2007-05-23</td>\n",
       "      <td>We show that a determinant of Stirling cycle...</td>\n",
       "      <td>math.CO</td>\n",
       "    </tr>\n",
       "    <tr>\n",
       "      <th>4</th>\n",
       "      <td>From dyadic $\\Lambda_{\\alpha}$ to $\\Lambda_{\\a...</td>\n",
       "      <td>Wael Abu-Shammala and Alberto Torchinsky</td>\n",
       "      <td>2013-10-15</td>\n",
       "      <td>In this paper we show how to compute the $\\L...</td>\n",
       "      <td>math.CA math.FA</td>\n",
       "    </tr>\n",
       "  </tbody>\n",
       "</table>\n",
       "</div>"
      ],
      "text/plain": [
       "                                               title  \\\n",
       "0  Calculation of prompt diphoton production cros...   \n",
       "1           Sparsity-certifying Graph Decompositions   \n",
       "2  The evolution of the Earth-Moon system based o...   \n",
       "3  A determinant of Stirling cycle numbers counts...   \n",
       "4  From dyadic $\\Lambda_{\\alpha}$ to $\\Lambda_{\\a...   \n",
       "\n",
       "                                             authors        date  \\\n",
       "0  C. Bal\\'azs, E. L. Berger, P. M. Nadolsky, C.-...  2008-11-26   \n",
       "1                    Ileana Streinu and Louis Theran  2008-12-13   \n",
       "2                                        Hongjun Pan  2008-01-13   \n",
       "3                                       David Callan  2007-05-23   \n",
       "4           Wael Abu-Shammala and Alberto Torchinsky  2013-10-15   \n",
       "\n",
       "                                            abstract       categories  \n",
       "0    A fully differential calculation in perturba...           hep-ph  \n",
       "1    We describe a new algorithm, the $(k,\\ell)$-...    math.CO cs.CG  \n",
       "2    The evolution of Earth-Moon system is descri...   physics.gen-ph  \n",
       "3    We show that a determinant of Stirling cycle...          math.CO  \n",
       "4    In this paper we show how to compute the $\\L...  math.CA math.FA  "
      ]
     },
     "execution_count": 14,
     "metadata": {},
     "output_type": "execute_result"
    }
   ],
   "source": [
    "full_data.head()"
   ]
  },
  {
   "cell_type": "code",
   "execution_count": 15,
   "id": "209e6d38",
   "metadata": {},
   "outputs": [
    {
     "data": {
      "text/plain": [
       "77494"
      ]
     },
     "execution_count": 15,
     "metadata": {},
     "output_type": "execute_result"
    }
   ],
   "source": [
    "full_data.categories.nunique()"
   ]
  },
  {
   "cell_type": "code",
   "execution_count": 16,
   "id": "57ee39a8",
   "metadata": {},
   "outputs": [
    {
     "name": "stdout",
     "output_type": "stream",
     "text": [
      "Number of empty rows in each features\n"
     ]
    },
    {
     "data": {
      "text/plain": [
       "title         0\n",
       "authors       0\n",
       "date          0\n",
       "abstract      0\n",
       "categories    0\n",
       "dtype: int64"
      ]
     },
     "execution_count": 16,
     "metadata": {},
     "output_type": "execute_result"
    }
   ],
   "source": [
    "print(\"Number of empty rows in each features\")\n",
    "full_data.isnull().sum()"
   ]
  },
  {
   "cell_type": "code",
   "execution_count": 17,
   "id": "12d31147",
   "metadata": {},
   "outputs": [
    {
     "data": {
      "text/html": [
       "<div>\n",
       "<style scoped>\n",
       "    .dataframe tbody tr th:only-of-type {\n",
       "        vertical-align: middle;\n",
       "    }\n",
       "\n",
       "    .dataframe tbody tr th {\n",
       "        vertical-align: top;\n",
       "    }\n",
       "\n",
       "    .dataframe thead th {\n",
       "        text-align: right;\n",
       "    }\n",
       "</style>\n",
       "<table border=\"1\" class=\"dataframe\">\n",
       "  <thead>\n",
       "    <tr style=\"text-align: right;\">\n",
       "      <th></th>\n",
       "      <th>title</th>\n",
       "      <th>authors</th>\n",
       "      <th>date</th>\n",
       "      <th>abstract</th>\n",
       "      <th>categories</th>\n",
       "    </tr>\n",
       "  </thead>\n",
       "  <tbody>\n",
       "    <tr>\n",
       "      <th>2185</th>\n",
       "      <td>Metal and molecule cooling in simulations of s...</td>\n",
       "      <td>U. Maio, K. Dolag, B. Ciardi, L. Tornatore</td>\n",
       "      <td>2009-06-23</td>\n",
       "      <td>This submission has been withdrawn by arXiv ...</td>\n",
       "      <td>astro-ph</td>\n",
       "    </tr>\n",
       "    <tr>\n",
       "      <th>4669</th>\n",
       "      <td>Generating Unexpected Spin Echoes in Dipolar S...</td>\n",
       "      <td>Dale Li, A. E. Dementyev, Yanqun Dong, R. G. R...</td>\n",
       "      <td>2007-05-23</td>\n",
       "      <td>NMR spin echo measurements of C-13 in C60, Y...</td>\n",
       "      <td>quant-ph cond-mat.mes-hall</td>\n",
       "    </tr>\n",
       "    <tr>\n",
       "      <th>16843</th>\n",
       "      <td>The Computation of All 4R Serial Spherical Wri...</td>\n",
       "      <td>Damien Chablat (IRCCyN), Jorge Angeles (CIM)</td>\n",
       "      <td>2007-07-26</td>\n",
       "      <td>A spherical wrist of the serial type is said...</td>\n",
       "      <td>cs.RO</td>\n",
       "    </tr>\n",
       "    <tr>\n",
       "      <th>17949</th>\n",
       "      <td>Discussion of ``2004 IMS Medallion Lecture: Lo...</td>\n",
       "      <td>St\\'ephan Cl\\'emen\\c{c}on, G\\'abor Lugosi, Nic...</td>\n",
       "      <td>2009-09-29</td>\n",
       "      <td>Discussion of ``2004 IMS Medallion Lecture: ...</td>\n",
       "      <td>q-fin.RM math.ST stat.TH</td>\n",
       "    </tr>\n",
       "    <tr>\n",
       "      <th>17972</th>\n",
       "      <td>Discussion of ``2004 IMS Medallion Lecture: Lo...</td>\n",
       "      <td>Xiaotong Shen, Lifeng Wang</td>\n",
       "      <td>2008-12-02</td>\n",
       "      <td>Discussion of ``2004 IMS Medallion Lecture: ...</td>\n",
       "      <td>q-fin.RM math.ST stat.TH</td>\n",
       "    </tr>\n",
       "    <tr>\n",
       "      <th>...</th>\n",
       "      <td>...</td>\n",
       "      <td>...</td>\n",
       "      <td>...</td>\n",
       "      <td>...</td>\n",
       "      <td>...</td>\n",
       "    </tr>\n",
       "    <tr>\n",
       "      <th>2278974</th>\n",
       "      <td>Computability Superselection Rule and its phys...</td>\n",
       "      <td>Gavriel Segre</td>\n",
       "      <td>2007-05-23</td>\n",
       "      <td>Paper erroneously re-submitted as duplicte. ...</td>\n",
       "      <td>quant-ph</td>\n",
       "    </tr>\n",
       "    <tr>\n",
       "      <th>2279370</th>\n",
       "      <td>A Proof of the Security of Quantum Key Distrib...</td>\n",
       "      <td>Eli Biham, Michel Boyer, P. Oscar Boykin, Tal ...</td>\n",
       "      <td>2007-05-23</td>\n",
       "      <td>We prove the security of quantum key distrib...</td>\n",
       "      <td>quant-ph</td>\n",
       "    </tr>\n",
       "    <tr>\n",
       "      <th>2279444</th>\n",
       "      <td>The Super W_3 Conformal Algebra and the Boussi...</td>\n",
       "      <td>Ziemowit Popowicz (Research Institute for Theo...</td>\n",
       "      <td>2009-10-22</td>\n",
       "      <td>The bihamiltonian structure of the N=2 Super...</td>\n",
       "      <td>solv-int nlin.SI</td>\n",
       "    </tr>\n",
       "    <tr>\n",
       "      <th>2279467</th>\n",
       "      <td>Dynamical Systems Accepting the Normal Shift</td>\n",
       "      <td>R. A. Sharipov (Department of Mathematics, Bas...</td>\n",
       "      <td>2008-02-03</td>\n",
       "      <td>Newtonian dynamical systems accepting the no...</td>\n",
       "      <td>solv-int alg-geom astro-ph gr-qc hep-th math.A...</td>\n",
       "    </tr>\n",
       "    <tr>\n",
       "      <th>2280111</th>\n",
       "      <td>On the Hamiltonian and Lagrangian structures o...</td>\n",
       "      <td>Monica Ugaglia</td>\n",
       "      <td>2007-05-23</td>\n",
       "      <td>In this paper we study the reductions of evo...</td>\n",
       "      <td>solv-int nlin.SI</td>\n",
       "    </tr>\n",
       "  </tbody>\n",
       "</table>\n",
       "<p>3905 rows × 5 columns</p>\n",
       "</div>"
      ],
      "text/plain": [
       "                                                     title  \\\n",
       "2185     Metal and molecule cooling in simulations of s...   \n",
       "4669     Generating Unexpected Spin Echoes in Dipolar S...   \n",
       "16843    The Computation of All 4R Serial Spherical Wri...   \n",
       "17949    Discussion of ``2004 IMS Medallion Lecture: Lo...   \n",
       "17972    Discussion of ``2004 IMS Medallion Lecture: Lo...   \n",
       "...                                                    ...   \n",
       "2278974  Computability Superselection Rule and its phys...   \n",
       "2279370  A Proof of the Security of Quantum Key Distrib...   \n",
       "2279444  The Super W_3 Conformal Algebra and the Boussi...   \n",
       "2279467       Dynamical Systems Accepting the Normal Shift   \n",
       "2280111  On the Hamiltonian and Lagrangian structures o...   \n",
       "\n",
       "                                                   authors        date  \\\n",
       "2185            U. Maio, K. Dolag, B. Ciardi, L. Tornatore  2009-06-23   \n",
       "4669     Dale Li, A. E. Dementyev, Yanqun Dong, R. G. R...  2007-05-23   \n",
       "16843         Damien Chablat (IRCCyN), Jorge Angeles (CIM)  2007-07-26   \n",
       "17949    St\\'ephan Cl\\'emen\\c{c}on, G\\'abor Lugosi, Nic...  2009-09-29   \n",
       "17972                           Xiaotong Shen, Lifeng Wang  2008-12-02   \n",
       "...                                                    ...         ...   \n",
       "2278974                                      Gavriel Segre  2007-05-23   \n",
       "2279370  Eli Biham, Michel Boyer, P. Oscar Boykin, Tal ...  2007-05-23   \n",
       "2279444  Ziemowit Popowicz (Research Institute for Theo...  2009-10-22   \n",
       "2279467  R. A. Sharipov (Department of Mathematics, Bas...  2008-02-03   \n",
       "2280111                                     Monica Ugaglia  2007-05-23   \n",
       "\n",
       "                                                  abstract  \\\n",
       "2185       This submission has been withdrawn by arXiv ...   \n",
       "4669       NMR spin echo measurements of C-13 in C60, Y...   \n",
       "16843      A spherical wrist of the serial type is said...   \n",
       "17949      Discussion of ``2004 IMS Medallion Lecture: ...   \n",
       "17972      Discussion of ``2004 IMS Medallion Lecture: ...   \n",
       "...                                                    ...   \n",
       "2278974    Paper erroneously re-submitted as duplicte. ...   \n",
       "2279370    We prove the security of quantum key distrib...   \n",
       "2279444    The bihamiltonian structure of the N=2 Super...   \n",
       "2279467    Newtonian dynamical systems accepting the no...   \n",
       "2280111    In this paper we study the reductions of evo...   \n",
       "\n",
       "                                                categories  \n",
       "2185                                              astro-ph  \n",
       "4669                            quant-ph cond-mat.mes-hall  \n",
       "16843                                                cs.RO  \n",
       "17949                             q-fin.RM math.ST stat.TH  \n",
       "17972                             q-fin.RM math.ST stat.TH  \n",
       "...                                                    ...  \n",
       "2278974                                           quant-ph  \n",
       "2279370                                           quant-ph  \n",
       "2279444                                   solv-int nlin.SI  \n",
       "2279467  solv-int alg-geom astro-ph gr-qc hep-th math.A...  \n",
       "2280111                                   solv-int nlin.SI  \n",
       "\n",
       "[3905 rows x 5 columns]"
      ]
     },
     "execution_count": 17,
     "metadata": {},
     "output_type": "execute_result"
    }
   ],
   "source": [
    "full_data[full_data.title.duplicated()]"
   ]
  },
  {
   "cell_type": "code",
   "execution_count": 18,
   "id": "ec4312bf",
   "metadata": {},
   "outputs": [
    {
     "name": "stdout",
     "output_type": "stream",
     "text": [
      "Metal and molecule cooling in simulations of structure formation\n"
     ]
    }
   ],
   "source": [
    "title_duplicate = full_data[\"title\"].iloc[2185]\n",
    "print(title_duplicate)"
   ]
  },
  {
   "cell_type": "code",
   "execution_count": 19,
   "id": "73e871ed",
   "metadata": {},
   "outputs": [],
   "source": [
    "deduplicated_data = full_data.drop_duplicates(subset=\"title\", keep=\"first\")"
   ]
  },
  {
   "cell_type": "code",
   "execution_count": 20,
   "id": "439d047e",
   "metadata": {},
   "outputs": [
    {
     "name": "stdout",
     "output_type": "stream",
     "text": [
      "<class 'pandas.core.frame.DataFrame'>\n",
      "RangeIndex: 2280354 entries, 0 to 2280353\n",
      "Data columns (total 5 columns):\n",
      " #   Column      Dtype \n",
      "---  ------      ----- \n",
      " 0   title       object\n",
      " 1   authors     object\n",
      " 2   date        object\n",
      " 3   abstract    object\n",
      " 4   categories  object\n",
      "dtypes: object(5)\n",
      "memory usage: 87.0+ MB\n"
     ]
    }
   ],
   "source": [
    "full_data.info()"
   ]
  },
  {
   "cell_type": "code",
   "execution_count": 21,
   "id": "653fcdf9",
   "metadata": {},
   "outputs": [
    {
     "name": "stdout",
     "output_type": "stream",
     "text": [
      "<class 'pandas.core.frame.DataFrame'>\n",
      "Int64Index: 2276449 entries, 0 to 2280353\n",
      "Data columns (total 5 columns):\n",
      " #   Column      Dtype \n",
      "---  ------      ----- \n",
      " 0   title       object\n",
      " 1   authors     object\n",
      " 2   date        object\n",
      " 3   abstract    object\n",
      " 4   categories  object\n",
      "dtypes: object(5)\n",
      "memory usage: 104.2+ MB\n"
     ]
    }
   ],
   "source": [
    "deduplicated_data.info()"
   ]
  },
  {
   "cell_type": "code",
   "execution_count": 22,
   "id": "81ef937f",
   "metadata": {},
   "outputs": [],
   "source": [
    "FILE_PATH = \"./datasets/deduplicated_arxiv.csv\"\n",
    "deduplicated_data.to_csv(FILE_PATH, index=False)"
   ]
  },
  {
   "cell_type": "markdown",
   "id": "f511fe19",
   "metadata": {},
   "source": [
    "## Data Analysis and Visualization"
   ]
  },
  {
   "cell_type": "code",
   "execution_count": 23,
   "id": "a869af0a",
   "metadata": {},
   "outputs": [],
   "source": [
    "FILE_PATH = \"./datasets/deduplicated_arxiv.csv\"\n",
    "data = pd.read_csv(FILE_PATH)"
   ]
  },
  {
   "cell_type": "code",
   "execution_count": 24,
   "id": "4bb4f1dd",
   "metadata": {},
   "outputs": [
    {
     "data": {
      "text/html": [
       "<div>\n",
       "<style scoped>\n",
       "    .dataframe tbody tr th:only-of-type {\n",
       "        vertical-align: middle;\n",
       "    }\n",
       "\n",
       "    .dataframe tbody tr th {\n",
       "        vertical-align: top;\n",
       "    }\n",
       "\n",
       "    .dataframe thead th {\n",
       "        text-align: right;\n",
       "    }\n",
       "</style>\n",
       "<table border=\"1\" class=\"dataframe\">\n",
       "  <thead>\n",
       "    <tr style=\"text-align: right;\">\n",
       "      <th></th>\n",
       "      <th>title</th>\n",
       "      <th>authors</th>\n",
       "      <th>date</th>\n",
       "      <th>abstract</th>\n",
       "      <th>categories</th>\n",
       "    </tr>\n",
       "  </thead>\n",
       "  <tbody>\n",
       "    <tr>\n",
       "      <th>0</th>\n",
       "      <td>Calculation of prompt diphoton production cros...</td>\n",
       "      <td>C. Bal\\'azs, E. L. Berger, P. M. Nadolsky, C.-...</td>\n",
       "      <td>2008-11-26</td>\n",
       "      <td>A fully differential calculation in perturba...</td>\n",
       "      <td>hep-ph</td>\n",
       "    </tr>\n",
       "    <tr>\n",
       "      <th>1</th>\n",
       "      <td>Sparsity-certifying Graph Decompositions</td>\n",
       "      <td>Ileana Streinu and Louis Theran</td>\n",
       "      <td>2008-12-13</td>\n",
       "      <td>We describe a new algorithm, the $(k,\\ell)$-...</td>\n",
       "      <td>math.CO cs.CG</td>\n",
       "    </tr>\n",
       "    <tr>\n",
       "      <th>2</th>\n",
       "      <td>The evolution of the Earth-Moon system based o...</td>\n",
       "      <td>Hongjun Pan</td>\n",
       "      <td>2008-01-13</td>\n",
       "      <td>The evolution of Earth-Moon system is descri...</td>\n",
       "      <td>physics.gen-ph</td>\n",
       "    </tr>\n",
       "    <tr>\n",
       "      <th>3</th>\n",
       "      <td>A determinant of Stirling cycle numbers counts...</td>\n",
       "      <td>David Callan</td>\n",
       "      <td>2007-05-23</td>\n",
       "      <td>We show that a determinant of Stirling cycle...</td>\n",
       "      <td>math.CO</td>\n",
       "    </tr>\n",
       "    <tr>\n",
       "      <th>4</th>\n",
       "      <td>From dyadic $\\Lambda_{\\alpha}$ to $\\Lambda_{\\a...</td>\n",
       "      <td>Wael Abu-Shammala and Alberto Torchinsky</td>\n",
       "      <td>2013-10-15</td>\n",
       "      <td>In this paper we show how to compute the $\\L...</td>\n",
       "      <td>math.CA math.FA</td>\n",
       "    </tr>\n",
       "  </tbody>\n",
       "</table>\n",
       "</div>"
      ],
      "text/plain": [
       "                                               title  \\\n",
       "0  Calculation of prompt diphoton production cros...   \n",
       "1           Sparsity-certifying Graph Decompositions   \n",
       "2  The evolution of the Earth-Moon system based o...   \n",
       "3  A determinant of Stirling cycle numbers counts...   \n",
       "4  From dyadic $\\Lambda_{\\alpha}$ to $\\Lambda_{\\a...   \n",
       "\n",
       "                                             authors        date  \\\n",
       "0  C. Bal\\'azs, E. L. Berger, P. M. Nadolsky, C.-...  2008-11-26   \n",
       "1                    Ileana Streinu and Louis Theran  2008-12-13   \n",
       "2                                        Hongjun Pan  2008-01-13   \n",
       "3                                       David Callan  2007-05-23   \n",
       "4           Wael Abu-Shammala and Alberto Torchinsky  2013-10-15   \n",
       "\n",
       "                                            abstract       categories  \n",
       "0    A fully differential calculation in perturba...           hep-ph  \n",
       "1    We describe a new algorithm, the $(k,\\ell)$-...    math.CO cs.CG  \n",
       "2    The evolution of Earth-Moon system is descri...   physics.gen-ph  \n",
       "3    We show that a determinant of Stirling cycle...          math.CO  \n",
       "4    In this paper we show how to compute the $\\L...  math.CA math.FA  "
      ]
     },
     "execution_count": 24,
     "metadata": {},
     "output_type": "execute_result"
    }
   ],
   "source": [
    "data.head()"
   ]
  },
  {
   "cell_type": "code",
   "execution_count": 25,
   "id": "10bac785",
   "metadata": {},
   "outputs": [],
   "source": [
    "# convert the categories into tuple of categories\n",
    "data[\"categories\"] = data[\"categories\"].apply(lambda categories : tuple(categories.split()))\n",
    "\n",
    "data[\"num_categories\"] = data[\"categories\"].apply(lambda x : len(x))"
   ]
  },
  {
   "cell_type": "code",
   "execution_count": 26,
   "id": "f9a350ab",
   "metadata": {},
   "outputs": [
    {
     "data": {
      "text/html": [
       "<div>\n",
       "<style scoped>\n",
       "    .dataframe tbody tr th:only-of-type {\n",
       "        vertical-align: middle;\n",
       "    }\n",
       "\n",
       "    .dataframe tbody tr th {\n",
       "        vertical-align: top;\n",
       "    }\n",
       "\n",
       "    .dataframe thead th {\n",
       "        text-align: right;\n",
       "    }\n",
       "</style>\n",
       "<table border=\"1\" class=\"dataframe\">\n",
       "  <thead>\n",
       "    <tr style=\"text-align: right;\">\n",
       "      <th></th>\n",
       "      <th>title</th>\n",
       "      <th>authors</th>\n",
       "      <th>date</th>\n",
       "      <th>abstract</th>\n",
       "      <th>categories</th>\n",
       "      <th>num_categories</th>\n",
       "    </tr>\n",
       "  </thead>\n",
       "  <tbody>\n",
       "    <tr>\n",
       "      <th>0</th>\n",
       "      <td>Calculation of prompt diphoton production cros...</td>\n",
       "      <td>C. Bal\\'azs, E. L. Berger, P. M. Nadolsky, C.-...</td>\n",
       "      <td>2008-11-26</td>\n",
       "      <td>A fully differential calculation in perturba...</td>\n",
       "      <td>(hep-ph,)</td>\n",
       "      <td>1</td>\n",
       "    </tr>\n",
       "    <tr>\n",
       "      <th>1</th>\n",
       "      <td>Sparsity-certifying Graph Decompositions</td>\n",
       "      <td>Ileana Streinu and Louis Theran</td>\n",
       "      <td>2008-12-13</td>\n",
       "      <td>We describe a new algorithm, the $(k,\\ell)$-...</td>\n",
       "      <td>(math.CO, cs.CG)</td>\n",
       "      <td>2</td>\n",
       "    </tr>\n",
       "    <tr>\n",
       "      <th>2</th>\n",
       "      <td>The evolution of the Earth-Moon system based o...</td>\n",
       "      <td>Hongjun Pan</td>\n",
       "      <td>2008-01-13</td>\n",
       "      <td>The evolution of Earth-Moon system is descri...</td>\n",
       "      <td>(physics.gen-ph,)</td>\n",
       "      <td>1</td>\n",
       "    </tr>\n",
       "    <tr>\n",
       "      <th>3</th>\n",
       "      <td>A determinant of Stirling cycle numbers counts...</td>\n",
       "      <td>David Callan</td>\n",
       "      <td>2007-05-23</td>\n",
       "      <td>We show that a determinant of Stirling cycle...</td>\n",
       "      <td>(math.CO,)</td>\n",
       "      <td>1</td>\n",
       "    </tr>\n",
       "    <tr>\n",
       "      <th>4</th>\n",
       "      <td>From dyadic $\\Lambda_{\\alpha}$ to $\\Lambda_{\\a...</td>\n",
       "      <td>Wael Abu-Shammala and Alberto Torchinsky</td>\n",
       "      <td>2013-10-15</td>\n",
       "      <td>In this paper we show how to compute the $\\L...</td>\n",
       "      <td>(math.CA, math.FA)</td>\n",
       "      <td>2</td>\n",
       "    </tr>\n",
       "  </tbody>\n",
       "</table>\n",
       "</div>"
      ],
      "text/plain": [
       "                                               title  \\\n",
       "0  Calculation of prompt diphoton production cros...   \n",
       "1           Sparsity-certifying Graph Decompositions   \n",
       "2  The evolution of the Earth-Moon system based o...   \n",
       "3  A determinant of Stirling cycle numbers counts...   \n",
       "4  From dyadic $\\Lambda_{\\alpha}$ to $\\Lambda_{\\a...   \n",
       "\n",
       "                                             authors        date  \\\n",
       "0  C. Bal\\'azs, E. L. Berger, P. M. Nadolsky, C.-...  2008-11-26   \n",
       "1                    Ileana Streinu and Louis Theran  2008-12-13   \n",
       "2                                        Hongjun Pan  2008-01-13   \n",
       "3                                       David Callan  2007-05-23   \n",
       "4           Wael Abu-Shammala and Alberto Torchinsky  2013-10-15   \n",
       "\n",
       "                                            abstract          categories  \\\n",
       "0    A fully differential calculation in perturba...           (hep-ph,)   \n",
       "1    We describe a new algorithm, the $(k,\\ell)$-...    (math.CO, cs.CG)   \n",
       "2    The evolution of Earth-Moon system is descri...   (physics.gen-ph,)   \n",
       "3    We show that a determinant of Stirling cycle...          (math.CO,)   \n",
       "4    In this paper we show how to compute the $\\L...  (math.CA, math.FA)   \n",
       "\n",
       "   num_categories  \n",
       "0               1  \n",
       "1               2  \n",
       "2               1  \n",
       "3               1  \n",
       "4               2  "
      ]
     },
     "execution_count": 26,
     "metadata": {},
     "output_type": "execute_result"
    }
   ],
   "source": [
    "data.head()"
   ]
  },
  {
   "cell_type": "code",
   "execution_count": 34,
   "id": "a5954c83",
   "metadata": {},
   "outputs": [
    {
     "data": {
      "text/plain": [
       "count    2.276449e+06\n",
       "mean     1.686848e+00\n",
       "std      9.206593e-01\n",
       "min      1.000000e+00\n",
       "25%      1.000000e+00\n",
       "50%      1.000000e+00\n",
       "75%      2.000000e+00\n",
       "max      1.300000e+01\n",
       "Name: num_categories, dtype: float64"
      ]
     },
     "execution_count": 34,
     "metadata": {},
     "output_type": "execute_result"
    }
   ],
   "source": [
    "# visualize the number of papers per categories\n",
    "data[\"num_categories\"].describe()"
   ]
  },
  {
   "cell_type": "code",
   "execution_count": 35,
   "id": "86c44549",
   "metadata": {},
   "outputs": [
    {
     "data": {
      "image/png": "[encoded data removed]",
      "text/plain": [
       "<Figure size 1200x600 with 1 Axes>"
      ]
     },
     "metadata": {},
     "output_type": "display_data"
    }
   ],
   "source": [
    "# visualize the number of categoies per paper\n",
    "count_data = data[\"num_categories\"].value_counts()\n",
    "plt.figure(figsize=(12, 6))\n",
    "ax = sns.barplot(x=count_data.index, y=count_data.values)\n",
    "\n",
    "# Add count values above each bar\n",
    "for i, count in enumerate(count_data.values):\n",
    "    ax.annotate(count, (i, count), ha='center', va='bottom')\n",
    "\n",
    "plt.show()"
   ]
  },
  {
   "cell_type": "code",
   "execution_count": 36,
   "id": "c072c968",
   "metadata": {},
   "outputs": [
    {
     "data": {
      "text/html": [
       "<div>\n",
       "<style scoped>\n",
       "    .dataframe tbody tr th:only-of-type {\n",
       "        vertical-align: middle;\n",
       "    }\n",
       "\n",
       "    .dataframe tbody tr th {\n",
       "        vertical-align: top;\n",
       "    }\n",
       "\n",
       "    .dataframe thead th {\n",
       "        text-align: right;\n",
       "    }\n",
       "</style>\n",
       "<table border=\"1\" class=\"dataframe\">\n",
       "  <thead>\n",
       "    <tr style=\"text-align: right;\">\n",
       "      <th></th>\n",
       "      <th>title</th>\n",
       "      <th>authors</th>\n",
       "      <th>date</th>\n",
       "      <th>abstract</th>\n",
       "      <th>categories</th>\n",
       "      <th>num_categories</th>\n",
       "    </tr>\n",
       "  </thead>\n",
       "  <tbody>\n",
       "    <tr>\n",
       "      <th>57315</th>\n",
       "      <td>Visco-potential free-surface flows and long wa...</td>\n",
       "      <td>Denys Dutykh (1) ((1) LAMA, University of Savoie)</td>\n",
       "      <td>2020-02-20</td>\n",
       "      <td>In a recent study [DutykhDias2007] we presen...</td>\n",
       "      <td>(physics.flu-dyn, math-ph, math.AP, math.MP, m...</td>\n",
       "      <td>11</td>\n",
       "    </tr>\n",
       "    <tr>\n",
       "      <th>2026774</th>\n",
       "      <td>Automated Pattern Detection--An Algorithm for ...</td>\n",
       "      <td>Carl S. McTague and James P. Crutchfield</td>\n",
       "      <td>2016-08-31</td>\n",
       "      <td>In the computational-mechanics structural an...</td>\n",
       "      <td>(cs.CV, cond-mat.stat-mech, cs.CL, cs.DS, cs.I...</td>\n",
       "      <td>11</td>\n",
       "    </tr>\n",
       "  </tbody>\n",
       "</table>\n",
       "</div>"
      ],
      "text/plain": [
       "                                                     title  \\\n",
       "57315    Visco-potential free-surface flows and long wa...   \n",
       "2026774  Automated Pattern Detection--An Algorithm for ...   \n",
       "\n",
       "                                                   authors        date  \\\n",
       "57315    Denys Dutykh (1) ((1) LAMA, University of Savoie)  2020-02-20   \n",
       "2026774           Carl S. McTague and James P. Crutchfield  2016-08-31   \n",
       "\n",
       "                                                  abstract  \\\n",
       "57315      In a recent study [DutykhDias2007] we presen...   \n",
       "2026774    In the computational-mechanics structural an...   \n",
       "\n",
       "                                                categories  num_categories  \n",
       "57315    (physics.flu-dyn, math-ph, math.AP, math.MP, m...              11  \n",
       "2026774  (cs.CV, cond-mat.stat-mech, cs.CL, cs.DS, cs.I...              11  "
      ]
     },
     "execution_count": 36,
     "metadata": {},
     "output_type": "execute_result"
    }
   ],
   "source": [
    "data[data[\"num_categories\"] == 11]"
   ]
  },
  {
   "cell_type": "code",
   "execution_count": 37,
   "id": "e9ef7746",
   "metadata": {},
   "outputs": [
    {
     "name": "stdout",
     "output_type": "stream",
     "text": [
      "Num. unique categories: 176\n",
      "Maximum published\n",
      "[('astro-ph', 104928), ('quant-ph', 136005), ('cs.LG', 143500), ('hep-th', 158697), ('hep-ph', 171480)]\n",
      "Minimum published\n",
      "[('bayes-an', 16), ('ao-sci', 17), ('plasm-ph', 38), ('acc-phys', 48), ('atom-ph', 123)]\n"
     ]
    }
   ],
   "source": [
    "categories = data[\"categories\"].tolist()\n",
    "\n",
    "# Getting all unique categories by flattening the 'categories' column\n",
    "# and creating a set out of the resultant list.\n",
    "unique_categories = {}\n",
    "for row in categories:\n",
    "    for category in row:\n",
    "        unique_categories[category] = unique_categories.get(category, 0) + 1\n",
    "\n",
    "print(f\"Num. unique categories: {len(unique_categories)}\")\n",
    "\n",
    "\n",
    "# print maximum published and minimum published 5 papers categories\n",
    "# sort the dictionary based on the value\n",
    "list_categories = sorted(unique_categories.items(), key = lambda x : x[1])\n",
    "print(\"Maximum published\")\n",
    "print(list_categories[-5:])\n",
    "print(\"Minimum published\")\n",
    "print(list_categories[:5])"
   ]
  },
  {
   "cell_type": "code",
   "execution_count": 38,
   "id": "082e266c",
   "metadata": {},
   "outputs": [
    {
     "data": {
      "image/png": "[encoded data removed]",
      "text/plain": [
       "<Figure size 1200x600 with 1 Axes>"
      ]
     },
     "metadata": {},
     "output_type": "display_data"
    },
    {
     "data": {
      "image/png": "[encoded data removed]",
      "text/plain": [
       "<Figure size 1200x600 with 1 Axes>"
      ]
     },
     "metadata": {},
     "output_type": "display_data"
    }
   ],
   "source": [
    "# Visualize top 10 and bottom 10 data of unique categories\n",
    "labels, counts = zip(*list_categories)\n",
    "labels, counts = list(labels), list(counts)\n",
    "NUMBER=10\n",
    "\n",
    "# Minimum published categories\n",
    "plt.figure(figsize=(12, 6))\n",
    "ax = sns.barplot(x=labels[:NUMBER], y=counts[:NUMBER])\n",
    "for i, count in enumerate(counts[:NUMBER]):\n",
    "    ax.annotate(count, (i, count), ha='center', va='bottom')\n",
    "\n",
    "# Maximum published categories\n",
    "plt.figure(figsize=(12, 6))\n",
    "ax = sns.barplot(x=labels[-NUMBER:], y=counts[-NUMBER:])\n",
    "for i, count in enumerate(counts[-NUMBER:]):\n",
    "    ax.annotate(count, (i, count), ha='center', va='bottom')\n",
    "\n",
    "\n",
    "plt.show()"
   ]
  },
  {
   "cell_type": "code",
   "execution_count": null,
   "id": "92f01bda",
   "metadata": {},
   "outputs": [],
   "source": []
  }
 ],
 "metadata": {
  "kernelspec": {
   "display_name": "Python 3 (ipykernel)",
   "language": "python",
   "name": "python3"
  },
  "language_info": {
   "codemirror_mode": {
    "name": "ipython",
    "version": 3
   },
   "file_extension": ".py",
   "mimetype": "text/x-python",
   "name": "python",
   "nbconvert_exporter": "python",
   "pygments_lexer": "ipython3",
   "version": "3.8.17"
  }
 },
 "nbformat": 4,
 "nbformat_minor": 5
}
